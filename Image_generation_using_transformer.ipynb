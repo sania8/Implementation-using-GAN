{
  "nbformat": 4,
  "nbformat_minor": 0,
  "metadata": {
    "colab": {
      "provenance": []
    },
    "kernelspec": {
      "name": "python3",
      "display_name": "Python 3"
    },
    "language_info": {
      "name": "python"
    }
  },
  "cells": [
    {
      "cell_type": "markdown",
      "source": [
        "GENERATION OF IMAGES USING TRANSFORMER\n",
        "\n"
      ],
      "metadata": {
        "id": "JxvGQ8HPt5c5"
      }
    },
    {
      "cell_type": "markdown",
      "source": [
        "Use your own custom data to generate images using Conv2D and transformers ."
      ],
      "metadata": {
        "id": "pqVUVeL8ucOR"
      }
    },
    {
      "cell_type": "markdown",
      "source": [
        "Step1 : To prepare dataset\n",
        "1. load the video\n",
        "2. convert video to frames and store in a folder\n",
        "3. convert frames to array and also to greyscale and save it as .npy file\n",
        "4. Extract images and labels from the dataset\n",
        "5. Store them in separate .npy files"
      ],
      "metadata": {
        "id": "ygquqBtsuMXk"
      }
    },
    {
      "cell_type": "code",
      "execution_count": null,
      "metadata": {
        "colab": {
          "base_uri": "https://localhost:8080/"
        },
        "id": "wJqSVr9d5bYP",
        "outputId": "8a2dc2d6-6c53-4383-f063-ed46f8669d50"
      },
      "outputs": [
        {
          "output_type": "stream",
          "name": "stdout",
          "text": [
            "Shape of train_images: (163, 28, 28)\n",
            "Shape of train_labels: (163,)\n"
          ]
        }
      ],
      "source": [
        "import cv2\n",
        "import os\n",
        "import numpy as np\n",
        "\n",
        "def load_images_and_labels_from_folder(folder):\n",
        "    images = []\n",
        "    labels = []\n",
        "    for filename in os.listdir(folder):\n",
        "        img_path = os.path.join(folder, filename)\n",
        "        if os.path.isfile(img_path):\n",
        "            # Load image\n",
        "            img = cv2.imread(img_path, cv2.IMREAD_GRAYSCALE)  # Convert image to grayscale if needed\n",
        "            if img is not None:\n",
        "                # Resize image to 28x28\n",
        "                resized_img = cv2.resize(img, (28, 28))\n",
        "                # Extract class label from frame name\n",
        "                class_label = filename.split('_')[-1].split('.')[0][5:]  # Extracting from 'frame0' onwards\n",
        "                # You can further process the class_label if needed\n",
        "                # For example, if you want to extract just the class name and remove \"g01_c01\", you can do:\n",
        "                # class_label = class_label.split('_')[0]\n",
        "                images.append(resized_img)\n",
        "                labels.append(class_label)\n",
        "\n",
        "    # Convert lists to numpy arrays\n",
        "    images = np.array(images)\n",
        "    labels = np.array(labels)\n",
        "\n",
        "    return images, labels\n",
        "\n",
        "folder_path = '/content/drive/MyDrive/MultiMedia_ActionPrediction_Project3/test_video/required/'\n",
        "train_images, train_labels = load_images_and_labels_from_folder(folder_path)\n",
        "\n",
        "# Save the numpy arrays containing images and labels\n",
        "np.save('/content/drive/MyDrive/MultiMedia_ActionPrediction_Project3/test_video/train1_images.npy', train_images)\n",
        "np.save('/content/drive/MyDrive/MultiMedia_ActionPrediction_Project3/test_video/train1_labels.npy', train_labels)\n",
        "\n",
        "# Print the shapes of the arrays\n",
        "print(\"Shape of train_images:\", train_images.shape)\n",
        "print(\"Shape of train_labels:\", train_labels.shape)\n"
      ]
    },
    {
      "cell_type": "markdown",
      "source": [
        "Import all the necessary modules , packages and dependencies"
      ],
      "metadata": {
        "id": "9yzFOR-Wu_sL"
      }
    },
    {
      "cell_type": "code",
      "source": [
        "import glob\n",
        "import imageio\n",
        "import matplotlib.pyplot as plt\n",
        "import numpy as np\n",
        "import os\n",
        "import PIL\n",
        "from tensorflow.keras import layers\n",
        "import time\n",
        "from tqdm import tqdm\n",
        "from IPython import display\n",
        "import tensorflow.keras as keras\n",
        "import tensorflow as tf\n",
        "\n"
      ],
      "metadata": {
        "id": "nleGN6VZ63hu"
      },
      "execution_count": null,
      "outputs": []
    },
    {
      "cell_type": "markdown",
      "source": [
        "Check the size of the trained_images\n",
        "**Note:** the images should be greyscale images or convert to greyscale"
      ],
      "metadata": {
        "id": "i13s0wCDvDbQ"
      }
    },
    {
      "cell_type": "code",
      "source": [
        "import numpy as np\n",
        "\n",
        "# Load the resized images numpy array\n",
        "resized_images = np.load('/content/drive/MyDrive/MultiMedia_ActionPrediction_Project3/test_video/train1_images.npy')\n",
        "\n",
        "# Assign the loaded array to train_images\n",
        "train_images = resized_images\n",
        "\n",
        "# Print the shape of train_images\n",
        "print(\"Shape of train_images:\", train_images.shape)\n"
      ],
      "metadata": {
        "colab": {
          "base_uri": "https://localhost:8080/"
        },
        "id": "atVXh0mm6YQD",
        "outputId": "a80f9e2a-9bef-4a11-f040-d8a534de3c36"
      },
      "execution_count": null,
      "outputs": [
        {
          "output_type": "stream",
          "name": "stdout",
          "text": [
            "Shape of train_images: (163, 28, 28)\n"
          ]
        }
      ]
    },
    {
      "cell_type": "markdown",
      "source": [],
      "metadata": {
        "id": "6PMwQOdKvLlf"
      }
    },
    {
      "cell_type": "code",
      "source": [
        "train_images[0]"
      ],
      "metadata": {
        "colab": {
          "base_uri": "https://localhost:8080/",
          "height": 68
        },
        "id": "EwtMoMvN6ozV",
        "outputId": "3d1d8d95-5258-4d6f-fb64-cd94d85cda79"
      },
      "execution_count": null,
      "outputs": [
        {
          "output_type": "execute_result",
          "data": {
            "text/plain": [
              "array([[ 73,  74,  71,  67,  58,  25,   5,   8,   4,   4,   1,   1,   7,\n",
              "          2,  41, 141,  89,  29,  31,  35,  48,  29, 173, 224, 209, 193,\n",
              "        170,  56],\n",
              "       [ 76,  86,  85,  78,  63,  27,   1,   0,   1,   5,   3,   3,   7,\n",
              "          0,  50, 128,  97,  45,  32,  32,  26, 115, 217, 228, 219, 212,\n",
              "        175, 119],\n",
              "       [ 76, 101, 101,  92,  72,  36,   3,   2,   2,   5,   2,   2,   7,\n",
              "          1,  38, 140,  89,  35,  28,  29,  70, 190, 229, 235, 223, 219,\n",
              "        191, 147],\n",
              "       [ 73, 111, 111, 101,  79,  45,   3,   6,   4,   9,  11,  15,  20,\n",
              "         11,  35, 130,  55,  25,  34,  27, 112, 195, 187, 222, 222, 204,\n",
              "        176, 123],\n",
              "       [ 80, 129, 125, 114,  89,  56,   4,   4,  10,  29,  45,  56,  55,\n",
              "         37,  49,  70,  27,  29,  26,  47, 159, 180, 153, 185, 214, 179,\n",
              "        132, 120],\n",
              "       [ 90, 147, 144, 134, 109,  73,   7,   2,  12,  43,  72,  86,  76,\n",
              "         46,  36,  17,  18,  26,   8,  78, 214, 215, 183, 187, 216, 176,\n",
              "        147, 159],\n",
              "       [ 85, 149, 149, 144, 120,  83,   7,   0,   5,  32,  61,  75,  61,\n",
              "         25,   2,   2,   6,  22,  17,  82, 201, 233, 198, 197, 194, 157,\n",
              "        179, 153],\n",
              "       [ 79, 166, 157, 152, 135,  88,  14,   1,  14,  13,  55,  88,  87,\n",
              "          6,   8,   3,  21, 143, 191, 135, 140, 160, 167, 214, 199, 147,\n",
              "        121, 109],\n",
              "       [ 73, 165, 164, 156, 139,  93,  21,   2,   1,  25,  90, 107,  81,\n",
              "         12,   1,  13,  67, 206, 230, 222, 191, 160, 211, 208, 194, 168,\n",
              "        119,  83],\n",
              "       [ 65, 149, 154, 140, 120,  82,  18,  11,   4,  36, 113, 121,  71,\n",
              "          8,   4,  11,  73, 219, 229, 225, 220, 233, 218, 199, 202, 178,\n",
              "        175, 161],\n",
              "       [ 50, 110, 113,  93,  76,  52,   7,   7,  11,  34,  96, 116,  70,\n",
              "          7,   5,  34, 143, 224, 224, 232, 219, 220, 197, 166, 172, 155,\n",
              "        171, 175],\n",
              "       [ 34,  58,  58,  40,  31,  24,   2,  15,  56,  65,  69,  68,  40,\n",
              "         12,   1,  52, 202, 224, 234, 241, 219, 229, 184, 159, 124, 115,\n",
              "        179, 148],\n",
              "       [ 28,  20,  19,  10,   7,   9,   3,  46,  61,  53,  61,  72,  37,\n",
              "          7,  13,  45, 150, 215, 247, 226, 231, 217, 204, 191, 172, 161,\n",
              "        162, 127],\n",
              "       [ 34,   6,   7,   4,   3,   4,   4,  52,  52,  46,  60,  59,  16,\n",
              "          5,   3,  25, 100, 191, 223, 224, 200, 226, 185, 150, 115, 127,\n",
              "        141, 109],\n",
              "       [ 41,   3,   1,   2,   2,   5,   1,  39,  23,  11,  22,  38,  13,\n",
              "          4,   4,  48, 152, 186, 207, 196, 187, 184, 145, 112,  64,  65,\n",
              "        117,  76],\n",
              "       [ 43,   1,   9,  23,   9,   0,   5,  16,   7,  31,  23,  13,   4,\n",
              "          7,   5,  39, 154, 193, 203, 197, 183, 163, 148, 131, 108, 107,\n",
              "        110,  32],\n",
              "       [ 27,   2,   7,  16,   5,   0,   4,   7,  24,  72,  40,  14,   4,\n",
              "          7,   4,  25, 137, 187, 189, 189, 174, 173, 150, 133, 136, 120,\n",
              "         81,  20],\n",
              "       [  6,   2,   1,   1,   1,   1,   1,  13,  19,  70,  36,   9,  11,\n",
              "          4,   6,  15, 107, 174, 178, 182, 173, 165, 148, 140, 154, 108,\n",
              "         36,   4],\n",
              "       [  0,   0,   3,  12,   8,   1,   7,  15,  14,  45,  53,  31,  11,\n",
              "         17,   7,   7,  74, 161, 177, 180, 174, 165, 145, 100,  89,  53,\n",
              "          9,   8],\n",
              "       [  0,   2,   5,  18,  14,   2,  10,   4,  20,  32,  79,  67,  11,\n",
              "         12,   3,   3,  51, 156, 185, 183, 169, 160, 121,  44,  21,  12,\n",
              "          2,   3],\n",
              "       [  1,   9,   1,   4,   9,   2,   1,  10,   7,  48,  80,  74,  84,\n",
              "         11,   3,   5,  45, 164, 200, 192, 168, 168,  97,  10,   3,   6,\n",
              "          1,   8],\n",
              "       [  3,  27,  27,  29,  33,  31,  17,  12,  32, 123, 155,  98, 145,\n",
              "         14,   6,   0,  50, 169, 197, 191, 185, 180,  78,  11,   5,   4,\n",
              "          1,   8],\n",
              "       [  7,  29,  50,  44,  39,  33,  29,  42,  43, 168, 182, 151, 111,\n",
              "         66,  34,  10,  52, 173, 211, 204, 187, 186,  73,   9,  12,   8,\n",
              "          1,   5],\n",
              "       [  6,  15,  52,  44,  52,  77, 109, 122,  95, 117, 123, 136, 130,\n",
              "        128, 126,  68,  95, 194, 210, 194, 186, 185,  72,  20,  40,  40,\n",
              "         14,   2],\n",
              "       [ 28,  19,  72,  94, 128, 154, 177, 183, 144, 136, 124, 121, 152,\n",
              "        149, 100, 108, 154, 203, 205, 204, 193, 177,  77,  37,  72,  88,\n",
              "         49,   4],\n",
              "       [ 27,  11,  36,  47,  72,  90, 108, 125, 160, 157, 153, 152, 124,\n",
              "        153, 129,  91, 137, 202, 202, 192, 192, 173,  86,  49,  88, 117,\n",
              "         77,  10],\n",
              "       [ 24,  34,  42,  23,   7,   9,  22,  33,  85,  97,  96,  95, 114,\n",
              "        114, 113, 100, 157, 204, 202, 192, 178, 171,  92,  61,  98, 120,\n",
              "         76,  11],\n",
              "       [ 32,  42,  31,  23,  13,  11,  13,   2,  38, 101,  94,  56,  84,\n",
              "        114, 108, 102, 164, 198, 190, 185, 178, 167,  94,  75, 112, 115,\n",
              "         60,   4]], dtype=uint8)"
            ],
            "text/html": [
              "<style>\n",
              "      .ndarray_repr .ndarray_raw_data {\n",
              "        display: none;\n",
              "      }\n",
              "      .ndarray_repr.show_array .ndarray_raw_data {\n",
              "        display: block;\n",
              "      }\n",
              "      .ndarray_repr.show_array .ndarray_image_preview {\n",
              "        display: none;\n",
              "      }\n",
              "      </style>\n",
              "      <div id=\"id-94ffce26-9b4a-48cf-be14-de3f99175a8d\" class=\"ndarray_repr\"><pre>ndarray (28, 28) <button style=\"padding: 0 2px;\">show data</button></pre><img src=\"data:image/png;base64,iVBORw0KGgoAAAANSUhEUgAAABwAAAAcCAAAAABXZoBIAAACuklEQVR4nAXB224bRRgA4H9m/509eHe9PiSGplat5qIkCg1SjUACUbhBqvoAiHtegpdAPA+3VKVIaQG1CnGVNknJwY5Pex7vzM4M30eeENXws4XVgAImH/x09IxiuPz1UZrMfkHLN3VDG0mQAmgvd+Nc3f54gL61eozQBi48agAMACmCTdWQg6cBkxDfReUDOB6gRoY2V9X7yqv37eNdSNMpOt3GKlpEs17cMqvg2SVutg7TKz28eaPQ7ypPJpak0U5U8fycuKvxF8SiVLV3UFLqt3zQdVla2XwGiB7mo7W5XY6uUXS41bYd4S0HYfAnk+2fP3vx+7/OYVo9L6gwDqLtkDzY7QlW+w8fP/jhERwIuaWvcZPY2bJUXt0auKeNpVlorOF+unT9L/cxnViL9bQER6/7xpDB97Z0RT6/YOs4wuQIVryW4Z53dXlpl92vwHdyL6+P+bcXKN4arii5ZxduS8mgPvpuMA+yvhOW6zmyW6IMIYwLJ5/ravFqzyUXd87fvQuiFTpKE6BNnhStWBkyGMuk5MeTs7/J+AypdqOM2zP+0eaGW5pTpyHNwuodmPoNTYiuGzC8s9chACZbi2zDfUrvhv8VdA4ibYhiUjfSUbT6kJe12WinW7xOUIDlNTWj8qYjF2G1OctjTUCdlKdXiEApo8Iq4/x+tJANzKSrpZy+mPGaUOI0mQTO8pg4TwxQ4bY9407fr4SxkXaBos7k9tPRH4e/WcK2lenIJaEaAJFuCSmCkHwafX4yPp9SjOo1k9pplEKTDSD8eBRevWRh75uvn+9smcoY0+rDdYHbvL99/86ATTZFek/99clDT/omsTuj2HuNZnN6c9vtdnZVx1wOh2/XRlXQeEE8LCeoBmx6QsPWODCmNzFen2rINAt8yxDquiUwyi/+QT35AJI6oqihoVEkk/p/djaEVlQvoQYAAAAASUVORK5CYII=\" class=\"ndarray_image_preview\" /><pre class=\"ndarray_raw_data\">array([[ 73,  74,  71,  67,  58,  25,   5,   8,   4,   4,   1,   1,   7,\n",
              "          2,  41, 141,  89,  29,  31,  35,  48,  29, 173, 224, 209, 193,\n",
              "        170,  56],\n",
              "       [ 76,  86,  85,  78,  63,  27,   1,   0,   1,   5,   3,   3,   7,\n",
              "          0,  50, 128,  97,  45,  32,  32,  26, 115, 217, 228, 219, 212,\n",
              "        175, 119],\n",
              "       [ 76, 101, 101,  92,  72,  36,   3,   2,   2,   5,   2,   2,   7,\n",
              "          1,  38, 140,  89,  35,  28,  29,  70, 190, 229, 235, 223, 219,\n",
              "        191, 147],\n",
              "       [ 73, 111, 111, 101,  79,  45,   3,   6,   4,   9,  11,  15,  20,\n",
              "         11,  35, 130,  55,  25,  34,  27, 112, 195, 187, 222, 222, 204,\n",
              "        176, 123],\n",
              "       [ 80, 129, 125, 114,  89,  56,   4,   4,  10,  29,  45,  56,  55,\n",
              "         37,  49,  70,  27,  29,  26,  47, 159, 180, 153, 185, 214, 179,\n",
              "        132, 120],\n",
              "       [ 90, 147, 144, 134, 109,  73,   7,   2,  12,  43,  72,  86,  76,\n",
              "         46,  36,  17,  18,  26,   8,  78, 214, 215, 183, 187, 216, 176,\n",
              "        147, 159],\n",
              "       [ 85, 149, 149, 144, 120,  83,   7,   0,   5,  32,  61,  75,  61,\n",
              "         25,   2,   2,   6,  22,  17,  82, 201, 233, 198, 197, 194, 157,\n",
              "        179, 153],\n",
              "       [ 79, 166, 157, 152, 135,  88,  14,   1,  14,  13,  55,  88,  87,\n",
              "          6,   8,   3,  21, 143, 191, 135, 140, 160, 167, 214, 199, 147,\n",
              "        121, 109],\n",
              "       [ 73, 165, 164, 156, 139,  93,  21,   2,   1,  25,  90, 107,  81,\n",
              "         12,   1,  13,  67, 206, 230, 222, 191, 160, 211, 208, 194, 168,\n",
              "        119,  83],\n",
              "       [ 65, 149, 154, 140, 120,  82,  18,  11,   4,  36, 113, 121,  71,\n",
              "          8,   4,  11,  73, 219, 229, 225, 220, 233, 218, 199, 202, 178,\n",
              "        175, 161],\n",
              "       [ 50, 110, 113,  93,  76,  52,   7,   7,  11,  34,  96, 116,  70,\n",
              "          7,   5,  34, 143, 224, 224, 232, 219, 220, 197, 166, 172, 155,\n",
              "        171, 175],\n",
              "       [ 34,  58,  58,  40,  31,  24,   2,  15,  56,  65,  69,  68,  40,\n",
              "         12,   1,  52, 202, 224, 234, 241, 219, 229, 184, 159, 124, 115,\n",
              "        179, 148],\n",
              "       [ 28,  20,  19,  10,   7,   9,   3,  46,  61,  53,  61,  72,  37,\n",
              "          7,  13,  45, 150, 215, 247, 226, 231, 217, 204, 191, 172, 161,\n",
              "        162, 127],\n",
              "       [ 34,   6,   7,   4,   3,   4,   4,  52,  52,  46,  60,  59,  16,\n",
              "          5,   3,  25, 100, 191, 223, 224, 200, 226, 185, 150, 115, 127,\n",
              "        141, 109],\n",
              "       [ 41,   3,   1,   2,   2,   5,   1,  39,  23,  11,  22,  38,  13,\n",
              "          4,   4,  48, 152, 186, 207, 196, 187, 184, 145, 112,  64,  65,\n",
              "        117,  76],\n",
              "       [ 43,   1,   9,  23,   9,   0,   5,  16,   7,  31,  23,  13,   4,\n",
              "          7,   5,  39, 154, 193, 203, 197, 183, 163, 148, 131, 108, 107,\n",
              "        110,  32],\n",
              "       [ 27,   2,   7,  16,   5,   0,   4,   7,  24,  72,  40,  14,   4,\n",
              "          7,   4,  25, 137, 187, 189, 189, 174, 173, 150, 133, 136, 120,\n",
              "         81,  20],\n",
              "       [  6,   2,   1,   1,   1,   1,   1,  13,  19,  70,  36,   9,  11,\n",
              "          4,   6,  15, 107, 174, 178, 182, 173, 165, 148, 140, 154, 108,\n",
              "         36,   4],\n",
              "       [  0,   0,   3,  12,   8,   1,   7,  15,  14,  45,  53,  31,  11,\n",
              "         17,   7,   7,  74, 161, 177, 180, 174, 165, 145, 100,  89,  53,\n",
              "          9,   8],\n",
              "       [  0,   2,   5,  18,  14,   2,  10,   4,  20,  32,  79,  67,  11,\n",
              "         12,   3,   3,  51, 156, 185, 183, 169, 160, 121,  44,  21,  12,\n",
              "          2,   3],\n",
              "       [  1,   9,   1,   4,   9,   2,   1,  10,   7,  48,  80,  74,  84,\n",
              "         11,   3,   5,  45, 164, 200, 192, 168, 168,  97,  10,   3,   6,\n",
              "          1,   8],\n",
              "       [  3,  27,  27,  29,  33,  31,  17,  12,  32, 123, 155,  98, 145,\n",
              "         14,   6,   0,  50, 169, 197, 191, 185, 180,  78,  11,   5,   4,\n",
              "          1,   8],\n",
              "       [  7,  29,  50,  44,  39,  33,  29,  42,  43, 168, 182, 151, 111,\n",
              "         66,  34,  10,  52, 173, 211, 204, 187, 186,  73,   9,  12,   8,\n",
              "          1,   5],\n",
              "       [  6,  15,  52,  44,  52,  77, 109, 122,  95, 117, 123, 136, 130,\n",
              "        128, 126,  68,  95, 194, 210, 194, 186, 185,  72,  20,  40,  40,\n",
              "         14,   2],\n",
              "       [ 28,  19,  72,  94, 128, 154, 177, 183, 144, 136, 124, 121, 152,\n",
              "        149, 100, 108, 154, 203, 205, 204, 193, 177,  77,  37,  72,  88,\n",
              "         49,   4],\n",
              "       [ 27,  11,  36,  47,  72,  90, 108, 125, 160, 157, 153, 152, 124,\n",
              "        153, 129,  91, 137, 202, 202, 192, 192, 173,  86,  49,  88, 117,\n",
              "         77,  10],\n",
              "       [ 24,  34,  42,  23,   7,   9,  22,  33,  85,  97,  96,  95, 114,\n",
              "        114, 113, 100, 157, 204, 202, 192, 178, 171,  92,  61,  98, 120,\n",
              "         76,  11],\n",
              "       [ 32,  42,  31,  23,  13,  11,  13,   2,  38, 101,  94,  56,  84,\n",
              "        114, 108, 102, 164, 198, 190, 185, 178, 167,  94,  75, 112, 115,\n",
              "         60,   4]], dtype=uint8)</pre></div><script>\n",
              "      (() => {\n",
              "      const titles = ['show data', 'hide data'];\n",
              "      let index = 0\n",
              "      document.querySelector('#id-94ffce26-9b4a-48cf-be14-de3f99175a8d button').onclick = (e) => {\n",
              "        document.querySelector('#id-94ffce26-9b4a-48cf-be14-de3f99175a8d').classList.toggle('show_array');\n",
              "        index = (++index) % 2;\n",
              "        document.querySelector('#id-94ffce26-9b4a-48cf-be14-de3f99175a8d button').textContent = titles[index];\n",
              "        e.preventDefault();\n",
              "        e.stopPropagation();\n",
              "      }\n",
              "      })();\n",
              "    </script>"
            ]
          },
          "metadata": {},
          "execution_count": 5
        }
      ]
    },
    {
      "cell_type": "markdown",
      "source": [
        "Resize the images by adding fourth dimension as channel"
      ],
      "metadata": {
        "id": "oRznSuOUvNXh"
      }
    },
    {
      "cell_type": "code",
      "source": [
        "train_images = train_images.reshape(train_images.shape[0], 28, 28, 1).astype('float32')\n",
        "train_images = (train_images - 127.5) / 127.5  # Normalize the images to [-1, 1]"
      ],
      "metadata": {
        "id": "EazreRhz7HE0"
      },
      "execution_count": null,
      "outputs": []
    },
    {
      "cell_type": "code",
      "source": [
        "train_images.shape"
      ],
      "metadata": {
        "colab": {
          "base_uri": "https://localhost:8080/"
        },
        "id": "OEbfdTdu7Jvc",
        "outputId": "4380523a-e1d0-42ff-c9b6-93d2401e37ba"
      },
      "execution_count": null,
      "outputs": [
        {
          "output_type": "execute_result",
          "data": {
            "text/plain": [
              "(163, 28, 28, 1)"
            ]
          },
          "metadata": {},
          "execution_count": 17
        }
      ]
    },
    {
      "cell_type": "markdown",
      "source": [
        "Add buffer size and batch size , Buffer size is added to shuffle the data  for data augmentation . The buffer size should be less than or equal to the size of the dataset"
      ],
      "metadata": {
        "id": "EWExXMn7vRdM"
      }
    },
    {
      "cell_type": "code",
      "source": [
        "BUFFER_SIZE = 160\n",
        "BATCH_SIZE = 25"
      ],
      "metadata": {
        "id": "ZsbCAEY66tAR"
      },
      "execution_count": null,
      "outputs": []
    },
    {
      "cell_type": "code",
      "source": [
        "# Batch and shuffle the data\n",
        "train_dataset = tf.data.Dataset.from_tensor_slices(train_images).shuffle(BUFFER_SIZE).batch(BATCH_SIZE)"
      ],
      "metadata": {
        "id": "HV__6r_960AB"
      },
      "execution_count": null,
      "outputs": []
    },
    {
      "cell_type": "code",
      "source": [
        "print(train_dataset)"
      ],
      "metadata": {
        "colab": {
          "base_uri": "https://localhost:8080/"
        },
        "id": "iGJzWaGA61ez",
        "outputId": "2729ef06-43d0-47bf-e2d8-1b6ed4f30ac6"
      },
      "execution_count": null,
      "outputs": [
        {
          "output_type": "stream",
          "name": "stdout",
          "text": [
            "<_BatchDataset element_spec=TensorSpec(shape=(None, 28, 28, 1), dtype=tf.float32, name=None)>\n"
          ]
        }
      ]
    },
    {
      "cell_type": "markdown",
      "source": [
        "Prepare the generator of the transformer which is responsible to generate the images."
      ],
      "metadata": {
        "id": "kHMPpIInvbwU"
      }
    },
    {
      "cell_type": "code",
      "source": [
        "def make_generator_model():\n",
        "    model = tf.keras.Sequential()\n",
        "    model.add(layers.Dense(7*7*256, use_bias=False, input_shape=(100,)))\n",
        "    model.add(layers.BatchNormalization())\n",
        "    model.add(layers.LeakyReLU())\n",
        "\n",
        "    model.add(layers.Reshape((7, 7, 256)))\n",
        "    assert model.output_shape == (None, 7, 7, 256)  # Note: None is the batch size\n",
        "\n",
        "    model.add(layers.Conv2DTranspose(128, (5, 5), strides=(1, 1), padding='same', use_bias=False))\n",
        "    assert model.output_shape == (None, 7, 7, 128)\n",
        "    model.add(layers.BatchNormalization())\n",
        "    model.add(layers.LeakyReLU())\n",
        "\n",
        "    model.add(layers.Conv2DTranspose(64, (5, 5), strides=(2, 2), padding='same', use_bias=False))\n",
        "    assert model.output_shape == (None, 14, 14, 64)\n",
        "    model.add(layers.BatchNormalization())\n",
        "    model.add(layers.LeakyReLU())\n",
        "\n",
        "    model.add(layers.Conv2DTranspose(1, (5, 5), strides=(2, 2), padding='same', use_bias=False, activation='tanh'))\n",
        "    assert model.output_shape == (None, 28, 28, 1)\n",
        "\n",
        "    return model"
      ],
      "metadata": {
        "id": "0NBwcP1X7TON"
      },
      "execution_count": null,
      "outputs": []
    },
    {
      "cell_type": "markdown",
      "source": [
        "create an object of the model to use it and save it in a variable(generator) . Create the noise by passing first 100 data points"
      ],
      "metadata": {
        "id": "q3QHqzaeviCP"
      }
    },
    {
      "cell_type": "code",
      "source": [
        "generator = make_generator_model()\n",
        "\n",
        "noise = tf.random.normal([1, 100])\n",
        "generated_image = generator(noise, training=False)\n",
        "\n",
        "plt.imshow(generated_image[0, :, :, 0], cmap='gray')"
      ],
      "metadata": {
        "colab": {
          "base_uri": "https://localhost:8080/",
          "height": 447
        },
        "id": "jiAsKlEn7Xp-",
        "outputId": "c305208d-4971-48b0-fee3-8a73c5ee29c2"
      },
      "execution_count": null,
      "outputs": [
        {
          "output_type": "execute_result",
          "data": {
            "text/plain": [
              "<matplotlib.image.AxesImage at 0x7df4bd5bfd60>"
            ]
          },
          "metadata": {},
          "execution_count": 22
        },
        {
          "output_type": "display_data",
          "data": {
            "text/plain": [
              "<Figure size 640x480 with 1 Axes>"
            ],
            "image/png": "[encoded data removed]"
          },
          "metadata": {}
        }
      ]
    },
    {
      "cell_type": "markdown",
      "source": [
        "Generate the summary of the generator model"
      ],
      "metadata": {
        "id": "0uf6DlX6vvMb"
      }
    },
    {
      "cell_type": "code",
      "source": [
        "generator.summary()"
      ],
      "metadata": {
        "colab": {
          "base_uri": "https://localhost:8080/"
        },
        "id": "RNbH1XxD7aK8",
        "outputId": "06631164-f6d5-41da-b369-020264d55626"
      },
      "execution_count": null,
      "outputs": [
        {
          "output_type": "stream",
          "name": "stdout",
          "text": [
            "Model: \"sequential\"\n",
            "_________________________________________________________________\n",
            " Layer (type)                Output Shape              Param #   \n",
            "=================================================================\n",
            " dense (Dense)               (None, 12544)             1254400   \n",
            "                                                                 \n",
            " batch_normalization (Batch  (None, 12544)             50176     \n",
            " Normalization)                                                  \n",
            "                                                                 \n",
            " leaky_re_lu (LeakyReLU)     (None, 12544)             0         \n",
            "                                                                 \n",
            " reshape (Reshape)           (None, 7, 7, 256)         0         \n",
            "                                                                 \n",
            " conv2d_transpose (Conv2DTr  (None, 7, 7, 128)         819200    \n",
            " anspose)                                                        \n",
            "                                                                 \n",
            " batch_normalization_1 (Bat  (None, 7, 7, 128)         512       \n",
            " chNormalization)                                                \n",
            "                                                                 \n",
            " leaky_re_lu_1 (LeakyReLU)   (None, 7, 7, 128)         0         \n",
            "                                                                 \n",
            " conv2d_transpose_1 (Conv2D  (None, 14, 14, 64)        204800    \n",
            " Transpose)                                                      \n",
            "                                                                 \n",
            " batch_normalization_2 (Bat  (None, 14, 14, 64)        256       \n",
            " chNormalization)                                                \n",
            "                                                                 \n",
            " leaky_re_lu_2 (LeakyReLU)   (None, 14, 14, 64)        0         \n",
            "                                                                 \n",
            " conv2d_transpose_2 (Conv2D  (None, 28, 28, 1)         1600      \n",
            " Transpose)                                                      \n",
            "                                                                 \n",
            "=================================================================\n",
            "Total params: 2330944 (8.89 MB)\n",
            "Trainable params: 2305472 (8.79 MB)\n",
            "Non-trainable params: 25472 (99.50 KB)\n",
            "_________________________________________________________________\n"
          ]
        }
      ]
    },
    {
      "cell_type": "markdown",
      "source": [
        "Create the discriminator model to distinguish between real and fake images."
      ],
      "metadata": {
        "id": "lyBJiOtWvz89"
      }
    },
    {
      "cell_type": "code",
      "source": [
        "def make_discriminator_model():\n",
        "    model = tf.keras.Sequential()\n",
        "    model.add(layers.Conv2D(64, (5, 5), strides=(2, 2), padding='same',\n",
        "                                     input_shape=[28, 28, 1]))\n",
        "    model.add(layers.LeakyReLU())\n",
        "    model.add(layers.Dropout(0.3))\n",
        "\n",
        "    model.add(layers.Conv2D(128, (5, 5), strides=(2, 2), padding='same'))\n",
        "    model.add(layers.LeakyReLU())\n",
        "    model.add(layers.Dropout(0.3))\n",
        "\n",
        "    model.add(layers.Flatten())\n",
        "    model.add(layers.Dense(1))\n",
        "\n",
        "    return model"
      ],
      "metadata": {
        "id": "FLsERfhn7chg"
      },
      "execution_count": null,
      "outputs": []
    },
    {
      "cell_type": "markdown",
      "source": [
        "Create an inference for the discriminator model also."
      ],
      "metadata": {
        "id": "ukQLclwcv5VH"
      }
    },
    {
      "cell_type": "code",
      "source": [
        "discriminator = make_discriminator_model()\n",
        "decision = discriminator(generated_image)\n",
        "print (decision)"
      ],
      "metadata": {
        "colab": {
          "base_uri": "https://localhost:8080/"
        },
        "id": "qv6WVlaN7e5r",
        "outputId": "7c2a6039-5161-4d9f-f7bf-0a8f323b2221"
      },
      "execution_count": null,
      "outputs": [
        {
          "output_type": "stream",
          "name": "stdout",
          "text": [
            "tf.Tensor([[0.00115555]], shape=(1, 1), dtype=float32)\n"
          ]
        }
      ]
    },
    {
      "cell_type": "code",
      "source": [
        "discriminator.summary()"
      ],
      "metadata": {
        "colab": {
          "base_uri": "https://localhost:8080/"
        },
        "id": "Yjpa2u1k7gZl",
        "outputId": "70d4f1d7-7fe5-4400-b4ed-3ed69d0b1889"
      },
      "execution_count": null,
      "outputs": [
        {
          "output_type": "stream",
          "name": "stdout",
          "text": [
            "Model: \"sequential_1\"\n",
            "_________________________________________________________________\n",
            " Layer (type)                Output Shape              Param #   \n",
            "=================================================================\n",
            " conv2d (Conv2D)             (None, 14, 14, 64)        1664      \n",
            "                                                                 \n",
            " leaky_re_lu_3 (LeakyReLU)   (None, 14, 14, 64)        0         \n",
            "                                                                 \n",
            " dropout (Dropout)           (None, 14, 14, 64)        0         \n",
            "                                                                 \n",
            " conv2d_1 (Conv2D)           (None, 7, 7, 128)         204928    \n",
            "                                                                 \n",
            " leaky_re_lu_4 (LeakyReLU)   (None, 7, 7, 128)         0         \n",
            "                                                                 \n",
            " dropout_1 (Dropout)         (None, 7, 7, 128)         0         \n",
            "                                                                 \n",
            " flatten (Flatten)           (None, 6272)              0         \n",
            "                                                                 \n",
            " dense_1 (Dense)             (None, 1)                 6273      \n",
            "                                                                 \n",
            "=================================================================\n",
            "Total params: 212865 (831.50 KB)\n",
            "Trainable params: 212865 (831.50 KB)\n",
            "Non-trainable params: 0 (0.00 Byte)\n",
            "_________________________________________________________________\n"
          ]
        }
      ]
    },
    {
      "cell_type": "markdown",
      "source": [
        "ENTROPY LOSSES"
      ],
      "metadata": {
        "id": "Mn0gnVI2v9Qu"
      }
    },
    {
      "cell_type": "code",
      "source": [
        "# This method returns a helper function to compute cross entropy loss\n",
        "cross_entropy = tf.keras.losses.BinaryCrossentropy(from_logits=True)"
      ],
      "metadata": {
        "id": "y50SB-Vp7hLE"
      },
      "execution_count": null,
      "outputs": []
    },
    {
      "cell_type": "code",
      "source": [
        "def discriminator_loss(real_output, fake_output):\n",
        "    real_loss = cross_entropy(tf.ones_like(real_output), real_output)\n",
        "    fake_loss = cross_entropy(tf.zeros_like(fake_output), fake_output)\n",
        "    total_loss = real_loss + fake_loss\n",
        "    return total_loss"
      ],
      "metadata": {
        "id": "1W7vK9FW7j_S"
      },
      "execution_count": null,
      "outputs": []
    },
    {
      "cell_type": "code",
      "source": [
        "def generator_loss(fake_output):\n",
        "    return cross_entropy(tf.ones_like(fake_output), fake_output)"
      ],
      "metadata": {
        "id": "64ALUufL7lri"
      },
      "execution_count": null,
      "outputs": []
    },
    {
      "cell_type": "markdown",
      "source": [
        "Define your optimisers . Th eoptimiser used in the code is Adam Optimiser"
      ],
      "metadata": {
        "id": "5MWiedkSwARp"
      }
    },
    {
      "cell_type": "code",
      "source": [
        "generator_optimizer = tf.keras.optimizers.Adam(1e-4)\n",
        "discriminator_optimizer = tf.keras.optimizers.Adam(1e-4)"
      ],
      "metadata": {
        "id": "ZqhBPK197pq6"
      },
      "execution_count": null,
      "outputs": []
    },
    {
      "cell_type": "markdown",
      "source": [
        "Provide the directory to save the checkpoints"
      ],
      "metadata": {
        "id": "GqnZfD-Av_nu"
      }
    },
    {
      "cell_type": "code",
      "source": [
        "checkpoint_dir = './training_checkpoints'\n",
        "checkpoint_prefix = os.path.join(checkpoint_dir, \"ckpt\")\n",
        "checkpoint = tf.train.Checkpoint(generator_optimizer=generator_optimizer,\n",
        "                                 discriminator_optimizer=discriminator_optimizer,\n",
        "                                 generator=generator,\n",
        "                                 discriminator=discriminator)"
      ],
      "metadata": {
        "id": "R_4UfcO17rYK"
      },
      "execution_count": null,
      "outputs": []
    },
    {
      "cell_type": "markdown",
      "source": [
        "Define epoch and seed to get same random images"
      ],
      "metadata": {
        "id": "UiINm9sUwJmW"
      }
    },
    {
      "cell_type": "code",
      "source": [
        "EPOCHS = 50\n",
        "noise_dim = 100\n",
        "num_examples_to_generate = 16\n",
        "\n",
        "# You will reuse this seed overtime (so it's easier)\n",
        "# to visualize progress in the animated GIF)\n",
        "seed = tf.random.normal([num_examples_to_generate, noise_dim])"
      ],
      "metadata": {
        "id": "Km_Zgdx87usI"
      },
      "execution_count": null,
      "outputs": []
    },
    {
      "cell_type": "markdown",
      "source": [
        "Train function which is defined to illustarte what happens for each epoch ."
      ],
      "metadata": {
        "id": "SUMEsKZUwOAv"
      }
    },
    {
      "cell_type": "code",
      "source": [
        "# Notice the use of `tf.function`\n",
        "# This annotation causes the function to be \"compiled\".\n",
        "@tf.function\n",
        "def train_step(images):\n",
        "    noise = tf.random.normal([BATCH_SIZE, noise_dim])\n",
        "\n",
        "    with tf.GradientTape() as gen_tape, tf.GradientTape() as disc_tape:\n",
        "      generated_images = generator(noise, training=True)\n",
        "\n",
        "      real_output = discriminator(images, training=True)\n",
        "      fake_output = discriminator(generated_images, training=True)\n",
        "\n",
        "      gen_loss = generator_loss(fake_output)\n",
        "      disc_loss = discriminator_loss(real_output, fake_output)\n",
        "\n",
        "    gradients_of_generator = gen_tape.gradient(gen_loss, generator.trainable_variables)\n",
        "    gradients_of_discriminator = disc_tape.gradient(disc_loss, discriminator.trainable_variables)\n",
        "\n",
        "    generator_optimizer.apply_gradients(zip(gradients_of_generator, generator.trainable_variables))\n",
        "    discriminator_optimizer.apply_gradients(zip(gradients_of_discriminator, discriminator.trainable_variables))"
      ],
      "metadata": {
        "id": "uNvyEsFh7wXc"
      },
      "execution_count": null,
      "outputs": []
    },
    {
      "cell_type": "code",
      "source": [
        "def train(dataset, epochs):\n",
        "  for epoch in range(epochs):\n",
        "    start = time.time()\n",
        "\n",
        "    for image_batch in dataset:\n",
        "      train_step(image_batch)\n",
        "\n",
        "    # Produce images for the GIF as you go\n",
        "    display.clear_output(wait=True)\n",
        "    generate_and_save_images(generator,\n",
        "                             epoch + 1,\n",
        "                             seed)\n",
        "\n",
        "    # Save the model every 15 epochs\n",
        "    if (epoch + 1) % 15 == 0:\n",
        "      checkpoint.save(file_prefix = checkpoint_prefix)\n",
        "\n",
        "    print ('Time for epoch {} is {} sec'.format(epoch + 1, time.time()-start))\n",
        "\n",
        "  # Generate after the final epoch\n",
        "  display.clear_output(wait=True)\n",
        "  generate_and_save_images(generator,\n",
        "                           epochs,\n",
        "                           seed)"
      ],
      "metadata": {
        "id": "VhUXoPCv7x1w"
      },
      "execution_count": null,
      "outputs": []
    },
    {
      "cell_type": "markdown",
      "source": [
        "Save images"
      ],
      "metadata": {
        "id": "zXC-_MRiwXgE"
      }
    },
    {
      "cell_type": "code",
      "source": [
        "def generate_and_save_images(model, epoch, test_input):\n",
        "  # Notice `training` is set to False.\n",
        "  # This is so all layers run in inference mode (batchnorm).\n",
        "  predictions = model(test_input, training=False)\n",
        "\n",
        "  fig = plt.figure(figsize=(4, 4))\n",
        "\n",
        "  for i in range(predictions.shape[0]):\n",
        "      plt.subplot(4, 4, i+1)\n",
        "      plt.imshow(predictions[i, :, :, 0] * 127.5 + 127.5, cmap='gray')\n",
        "      plt.axis('off')\n",
        "\n",
        "  plt.savefig('image_at_epoch_{:04d}.png'.format(epoch))\n",
        "  plt.show()"
      ],
      "metadata": {
        "id": "Nsk8fiRJ7z4l"
      },
      "execution_count": null,
      "outputs": []
    },
    {
      "cell_type": "markdown",
      "source": [
        "Train the dataset , and also save images for each epoch"
      ],
      "metadata": {
        "id": "32JTtD48wZww"
      }
    },
    {
      "cell_type": "code",
      "source": [
        "train(train_dataset, EPOCHS)"
      ],
      "metadata": {
        "colab": {
          "base_uri": "https://localhost:8080/",
          "height": 345
        },
        "id": "V2QXSvXV71ZW",
        "outputId": "4e4c1593-34f9-491f-a76b-1f714be8be58"
      },
      "execution_count": null,
      "outputs": [
        {
          "output_type": "display_data",
          "data": {
            "text/plain": [
              "<Figure size 400x400 with 16 Axes>"
            ],
            "image/png": "[encoded data removed]"
          },
          "metadata": {}
        }
      ]
    }
  ]
}